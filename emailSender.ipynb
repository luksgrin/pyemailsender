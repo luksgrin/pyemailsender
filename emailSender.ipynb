{
 "cells": [
  {
   "attachments": {},
   "cell_type": "markdown",
   "metadata": {},
   "source": [
    "# So you want to send emails...\n",
    "\n",
    "I have set up a class that encapsulates all the logic.\n",
    "You need to provide the credentials in a `.env` file as shown in `example.env`"
   ]
  },
  {
   "cell_type": "code",
   "execution_count": null,
   "metadata": {},
   "outputs": [],
   "source": [
    "import emailSender\n",
    "from dotenv import dotenv_values"
   ]
  },
  {
   "cell_type": "code",
   "execution_count": null,
   "metadata": {},
   "outputs": [],
   "source": [
    "# Feed the credentials to the constructor to instantiate our class\n",
    "emailSenderInstance = emailSender.EmailSender_TLS(dotenv_values())\n",
    "\n",
    "#Create some messages\n",
    "messagesDetails = {\n",
    "    \"Friend 1\": {\n",
    "        \"receiver\": \"something@something.com\",\n",
    "        \"subject\": \"Hello world!\",\n",
    "        \"message\": \"Hi friend!\\n\\nSent via Python\",\n",
    "        \"attachmentPaths\": \"/your/path/here/myfile.file\"\n",
    "    },\n",
    "    \"Friend 2\": {\n",
    "        \"receiver\": \"somethingElse@somethingElse.com\",\n",
    "        \"subject\": \"Hello world again!\",\n",
    "        \"message\": \"Hi friend 2!\\n\\nSent via Python\",\n",
    "        \"CC\": \"something@something.com\",\n",
    "        \"attachmentPaths\": [\n",
    "            \"/your/path/here/myfile1.file\",\n",
    "            \"/your/path/here/myfile2.file\"\n",
    "        ]\n",
    "    }\n",
    "}\n",
    "\n",
    "# Send them!\n",
    "emailSenderInstance.sendEmails(messagesDetails)"
   ]
  },
  {
   "attachments": {},
   "cell_type": "markdown",
   "metadata": {},
   "source": [
    "SSL protocol is also supported! See `emailSender.EmailSender_SSL`"
   ]
  }
 ],
 "metadata": {
  "kernelspec": {
   "display_name": "Python 3",
   "language": "python",
   "name": "python3"
  },
  "language_info": {
   "codemirror_mode": {
    "name": "ipython",
    "version": 3
   },
   "file_extension": ".py",
   "mimetype": "text/x-python",
   "name": "python",
   "nbconvert_exporter": "python",
   "pygments_lexer": "ipython3",
   "version": "3.10.6"
  },
  "orig_nbformat": 4
 },
 "nbformat": 4,
 "nbformat_minor": 2
}
